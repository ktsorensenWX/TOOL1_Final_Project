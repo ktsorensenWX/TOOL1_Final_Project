{
 "cells": [
  {
   "cell_type": "markdown",
   "id": "51d65d95",
   "metadata": {},
   "source": [
    "# Atlantic Ocean Temperature Anomalies and the Correlation with Hurricane Development"
   ]
  },
  {
   "cell_type": "markdown",
   "id": "c9873896",
   "metadata": {},
   "source": [
    "COMP 4447 - Final Project - Kristoffer Sorensen"
   ]
  },
  {
   "cell_type": "markdown",
   "id": "0ad7b5eb",
   "metadata": {},
   "source": [
    "This project will discuss the impact ocean temperature fluctuation has on the severity and frequency of Atlantic-born hurricanes. The data will begin in 1851 and go until 2015, with the goal of identifying any trends or abnormalities that may occur between the two datasets. Correlation will be used to look into relationships and see how SST's may impact hurricanes. Due to the nature of hurricane structure, SST's alone are not responsible for the formation of such storms, therefore this project does not imply causation on hurricanes, meaning SST's are not the lone factor responsible for hurricane formation."
   ]
  },
  {
   "cell_type": "markdown",
   "id": "56b7fa99",
   "metadata": {},
   "source": [
    "The first sections will clean both datasets, using pandas to do so. Our focus is on storms that classify as Hurricanes (HU) or strong tropical storms (TS, with winds greater than 70mph). From here, we can choose to use peak values from every storm, i.e. unique values that symbolize the event rather than every point in the storms life."
   ]
  },
  {
   "cell_type": "code",
   "execution_count": null,
   "id": "a2422976",
   "metadata": {},
   "outputs": [],
   "source": [
    "# Pandas goes here"
   ]
  },
  {
   "cell_type": "code",
   "execution_count": null,
   "id": "46e3e2c2",
   "metadata": {},
   "outputs": [],
   "source": [
    "# Imply uniqueness on dataset(s)"
   ]
  },
  {
   "cell_type": "code",
   "execution_count": null,
   "id": "427d37db",
   "metadata": {},
   "outputs": [],
   "source": [
    "# Maybe use nltk to look for specific words/letters in names and group by that?"
   ]
  }
 ],
 "metadata": {
  "kernelspec": {
   "display_name": "Python 3 (ipykernel)",
   "language": "python",
   "name": "python3"
  },
  "language_info": {
   "codemirror_mode": {
    "name": "ipython",
    "version": 3
   },
   "file_extension": ".py",
   "mimetype": "text/x-python",
   "name": "python",
   "nbconvert_exporter": "python",
   "pygments_lexer": "ipython3",
   "version": "3.8.10"
  }
 },
 "nbformat": 4,
 "nbformat_minor": 5
}
